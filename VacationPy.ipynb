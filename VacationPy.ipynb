{
 "cells": [
  {
   "cell_type": "code",
   "execution_count": 1,
   "id": "separate-conditions",
   "metadata": {},
   "outputs": [],
   "source": [
    "# dependencies\n",
    "import pandas as pd\n",
    "import gmaps\n",
    "import requests\n",
    "# from config import g_key\n",
    "from config import g_key"
   ]
  },
  {
   "cell_type": "code",
   "execution_count": 2,
   "id": "meaning-bonus",
   "metadata": {},
   "outputs": [],
   "source": [
    "#print(g_key)"
   ]
  },
  {
   "cell_type": "code",
   "execution_count": 3,
   "id": "legitimate-closing",
   "metadata": {},
   "outputs": [
    {
     "data": {
      "text/plain": [
       "City_ID         int64\n",
       "City           object\n",
       "Country        object\n",
       "Date           object\n",
       "Lat           float64\n",
       "Lng           float64\n",
       "Max Temp      float64\n",
       "Humidity        int64\n",
       "Cloudiness      int64\n",
       "Wind Speed    float64\n",
       "dtype: object"
      ]
     },
     "execution_count": 3,
     "metadata": {},
     "output_type": "execute_result"
    }
   ],
   "source": [
    "# load file content to data frame\n",
    "city_data_df = pd.read_csv(\"../resources/weather_data/cities.csv\")\n",
    "city_data_df.head()\n",
    "# One caveat to using gmaps: \n",
    "# The data we use for any mapping must be either an integer or a floating-point decimal number.\n",
    "city_data_df.dtypes"
   ]
  },
  {
   "cell_type": "code",
   "execution_count": null,
   "id": "infrared-symbol",
   "metadata": {},
   "outputs": [],
   "source": []
  },
  {
   "cell_type": "code",
   "execution_count": 4,
   "id": "efficient-fashion",
   "metadata": {},
   "outputs": [
    {
     "name": "stdout",
     "output_type": "stream",
     "text": [
      "521\n"
     ]
    },
    {
     "data": {
      "application/vnd.jupyter.widget-view+json": {
       "model_id": "f08d11392f6a439cb0e55773dda54d53",
       "version_major": 2,
       "version_minor": 0
      },
      "text/plain": [
       "Figure(layout=FigureLayout(height='420px'))"
      ]
     },
     "metadata": {},
     "output_type": "display_data"
    }
   ],
   "source": [
    "# configure gmaps to use your Google API key\n",
    "gmaps.configure(api_key=g_key)\n",
    "# 1 assign the locations to an array of latitude and longitude pairs\n",
    "locations = city_data_df[['Lat', 'Lng']]\n",
    "print(len(locations))\n",
    "\n",
    "max_temp = city_data_df[\"Max Temp\"]\n",
    "\n",
    "temperatures = len(locations)\n",
    "# fig = gmaps.figure()\n",
    "# try:\n",
    "#     heatmap_layer = gmaps.heatmap_layer(locations, weights=max_temp)\n",
    "# except:\n",
    "heatmap_layer = gmaps.heatmap_layer(locations, weights=[max(temp, 0) for temp in max_temp])    \n",
    "# 6. call the figure to plot the data\n",
    "fig = gmaps.figure(center=(30.0, 31.0), zoom_level=1.5)\n",
    "# 5. Add the heatmap layer\n",
    "fig.add_layer(heatmap_layer)\n",
    "\n",
    "fig"
   ]
  },
  {
   "cell_type": "code",
   "execution_count": 5,
   "id": "nutritional-trader",
   "metadata": {},
   "outputs": [
    {
     "data": {
      "application/vnd.jupyter.widget-view+json": {
       "model_id": "5b72250ebca54c20b31ce00fa3770ab9",
       "version_major": 2,
       "version_minor": 0
      },
      "text/plain": [
       "Figure(layout=FigureLayout(height='420px'))"
      ]
     },
     "metadata": {},
     "output_type": "display_data"
    }
   ],
   "source": [
    "# create a % humidity heatmap\n",
    "humidity = city_data_df['Humidity']\n",
    "fig = gmaps.figure(center=(30.0, 31.0), zoom_level=1.5)\n",
    "heat_layer = gmaps.heatmap_layer(locations, weights=humidity, dissipating=False, max_intensity=300, point_radius=4)\n",
    "fig.add_layer(heat_layer)\n",
    "# Call the figure to plot the data.\n",
    "fig"
   ]
  },
  {
   "cell_type": "code",
   "execution_count": 6,
   "id": "immediate-colors",
   "metadata": {},
   "outputs": [
    {
     "data": {
      "application/vnd.jupyter.widget-view+json": {
       "model_id": "0c675775b94240ec93be631f4f1f0552",
       "version_major": 2,
       "version_minor": 0
      },
      "text/plain": [
       "Figure(layout=FigureLayout(height='420px'))"
      ]
     },
     "metadata": {},
     "output_type": "display_data"
    }
   ],
   "source": [
    "# Create a Percent Cloudiness Heatmap\n",
    "# Heatmap of percent cloudiness\n",
    "locations = city_data_df[[\"Lat\", \"Lng\"]]\n",
    "clouds  = city_data_df['Cloudiness']\n",
    "fig = gmaps.figure(center=(30.0, 31.0), zoom_level=1.5)\n",
    "heat_layer = gmaps.heatmap_layer(locations, clouds , dissipating=False, max_intensity=300, point_radius=4)\n",
    "\n",
    "fig.add_layer(heat_layer)\n",
    "# Call the figure to plot the data.\n",
    "fig\n",
    "\n"
   ]
  },
  {
   "cell_type": "code",
   "execution_count": 11,
   "id": "otherwise-employee",
   "metadata": {},
   "outputs": [
    {
     "name": "stdout",
     "output_type": "stream",
     "text": [
      "what is the minimum temperaure you would like for your trip?60\n",
      "what is the maximum temperaure you would like for your trip?90\n",
      "60.0 90.0\n"
     ]
    },
    {
     "data": {
      "text/html": [
       "<div>\n",
       "<style scoped>\n",
       "    .dataframe tbody tr th:only-of-type {\n",
       "        vertical-align: middle;\n",
       "    }\n",
       "\n",
       "    .dataframe tbody tr th {\n",
       "        vertical-align: top;\n",
       "    }\n",
       "\n",
       "    .dataframe thead th {\n",
       "        text-align: right;\n",
       "    }\n",
       "</style>\n",
       "<table border=\"1\" class=\"dataframe\">\n",
       "  <thead>\n",
       "    <tr style=\"text-align: right;\">\n",
       "      <th></th>\n",
       "      <th>City_ID</th>\n",
       "      <th>City</th>\n",
       "      <th>Country</th>\n",
       "      <th>Date</th>\n",
       "      <th>Lat</th>\n",
       "      <th>Lng</th>\n",
       "      <th>Max Temp</th>\n",
       "      <th>Humidity</th>\n",
       "      <th>Cloudiness</th>\n",
       "      <th>Wind Speed</th>\n",
       "    </tr>\n",
       "  </thead>\n",
       "  <tbody>\n",
       "    <tr>\n",
       "      <th>1</th>\n",
       "      <td>1</td>\n",
       "      <td>Namibe</td>\n",
       "      <td>AO</td>\n",
       "      <td>2019-11-04 04:08:05</td>\n",
       "      <td>-15.19</td>\n",
       "      <td>12.15</td>\n",
       "      <td>72.07</td>\n",
       "      <td>87</td>\n",
       "      <td>57</td>\n",
       "      <td>1.36</td>\n",
       "    </tr>\n",
       "    <tr>\n",
       "      <th>2</th>\n",
       "      <td>2</td>\n",
       "      <td>Jamestown</td>\n",
       "      <td>AU</td>\n",
       "      <td>2019-11-04 03:58:38</td>\n",
       "      <td>-33.21</td>\n",
       "      <td>138.60</td>\n",
       "      <td>63.41</td>\n",
       "      <td>42</td>\n",
       "      <td>11</td>\n",
       "      <td>18.34</td>\n",
       "    </tr>\n",
       "    <tr>\n",
       "      <th>3</th>\n",
       "      <td>3</td>\n",
       "      <td>Rikitea</td>\n",
       "      <td>PF</td>\n",
       "      <td>2019-11-04 03:58:31</td>\n",
       "      <td>-23.12</td>\n",
       "      <td>-134.97</td>\n",
       "      <td>74.26</td>\n",
       "      <td>80</td>\n",
       "      <td>100</td>\n",
       "      <td>10.94</td>\n",
       "    </tr>\n",
       "    <tr>\n",
       "      <th>4</th>\n",
       "      <td>4</td>\n",
       "      <td>Barrow</td>\n",
       "      <td>AR</td>\n",
       "      <td>2019-11-04 03:58:46</td>\n",
       "      <td>-38.31</td>\n",
       "      <td>-60.23</td>\n",
       "      <td>62.38</td>\n",
       "      <td>51</td>\n",
       "      <td>0</td>\n",
       "      <td>17.67</td>\n",
       "    </tr>\n",
       "    <tr>\n",
       "      <th>8</th>\n",
       "      <td>8</td>\n",
       "      <td>Oriximina</td>\n",
       "      <td>BR</td>\n",
       "      <td>2019-11-04 04:08:07</td>\n",
       "      <td>-1.77</td>\n",
       "      <td>-55.87</td>\n",
       "      <td>84.36</td>\n",
       "      <td>64</td>\n",
       "      <td>25</td>\n",
       "      <td>1.23</td>\n",
       "    </tr>\n",
       "    <tr>\n",
       "      <th>...</th>\n",
       "      <td>...</td>\n",
       "      <td>...</td>\n",
       "      <td>...</td>\n",
       "      <td>...</td>\n",
       "      <td>...</td>\n",
       "      <td>...</td>\n",
       "      <td>...</td>\n",
       "      <td>...</td>\n",
       "      <td>...</td>\n",
       "      <td>...</td>\n",
       "    </tr>\n",
       "    <tr>\n",
       "      <th>513</th>\n",
       "      <td>513</td>\n",
       "      <td>Sinnamary</td>\n",
       "      <td>GF</td>\n",
       "      <td>2019-11-04 04:10:16</td>\n",
       "      <td>5.38</td>\n",
       "      <td>-52.96</td>\n",
       "      <td>82.56</td>\n",
       "      <td>82</td>\n",
       "      <td>85</td>\n",
       "      <td>17.52</td>\n",
       "    </tr>\n",
       "    <tr>\n",
       "      <th>514</th>\n",
       "      <td>514</td>\n",
       "      <td>Arica</td>\n",
       "      <td>CL</td>\n",
       "      <td>2019-11-04 04:10:16</td>\n",
       "      <td>-18.48</td>\n",
       "      <td>-70.32</td>\n",
       "      <td>66.20</td>\n",
       "      <td>63</td>\n",
       "      <td>20</td>\n",
       "      <td>4.70</td>\n",
       "    </tr>\n",
       "    <tr>\n",
       "      <th>515</th>\n",
       "      <td>515</td>\n",
       "      <td>Beira</td>\n",
       "      <td>ES</td>\n",
       "      <td>2019-11-04 04:10:16</td>\n",
       "      <td>43.20</td>\n",
       "      <td>-8.36</td>\n",
       "      <td>61.00</td>\n",
       "      <td>100</td>\n",
       "      <td>75</td>\n",
       "      <td>12.75</td>\n",
       "    </tr>\n",
       "    <tr>\n",
       "      <th>516</th>\n",
       "      <td>516</td>\n",
       "      <td>Sao Felix Do Xingu</td>\n",
       "      <td>BR</td>\n",
       "      <td>2019-11-04 04:10:17</td>\n",
       "      <td>-6.64</td>\n",
       "      <td>-51.99</td>\n",
       "      <td>78.40</td>\n",
       "      <td>61</td>\n",
       "      <td>28</td>\n",
       "      <td>1.50</td>\n",
       "    </tr>\n",
       "    <tr>\n",
       "      <th>517</th>\n",
       "      <td>517</td>\n",
       "      <td>Atar</td>\n",
       "      <td>MR</td>\n",
       "      <td>2019-11-04 04:10:17</td>\n",
       "      <td>20.52</td>\n",
       "      <td>-13.05</td>\n",
       "      <td>75.24</td>\n",
       "      <td>26</td>\n",
       "      <td>0</td>\n",
       "      <td>7.78</td>\n",
       "    </tr>\n",
       "  </tbody>\n",
       "</table>\n",
       "<p>259 rows × 10 columns</p>\n",
       "</div>"
      ],
      "text/plain": [
       "     City_ID                City Country                 Date    Lat     Lng  \\\n",
       "1          1              Namibe      AO  2019-11-04 04:08:05 -15.19   12.15   \n",
       "2          2           Jamestown      AU  2019-11-04 03:58:38 -33.21  138.60   \n",
       "3          3             Rikitea      PF  2019-11-04 03:58:31 -23.12 -134.97   \n",
       "4          4              Barrow      AR  2019-11-04 03:58:46 -38.31  -60.23   \n",
       "8          8           Oriximina      BR  2019-11-04 04:08:07  -1.77  -55.87   \n",
       "..       ...                 ...     ...                  ...    ...     ...   \n",
       "513      513           Sinnamary      GF  2019-11-04 04:10:16   5.38  -52.96   \n",
       "514      514               Arica      CL  2019-11-04 04:10:16 -18.48  -70.32   \n",
       "515      515               Beira      ES  2019-11-04 04:10:16  43.20   -8.36   \n",
       "516      516  Sao Felix Do Xingu      BR  2019-11-04 04:10:17  -6.64  -51.99   \n",
       "517      517                Atar      MR  2019-11-04 04:10:17  20.52  -13.05   \n",
       "\n",
       "     Max Temp  Humidity  Cloudiness  Wind Speed  \n",
       "1       72.07        87          57        1.36  \n",
       "2       63.41        42          11       18.34  \n",
       "3       74.26        80         100       10.94  \n",
       "4       62.38        51           0       17.67  \n",
       "8       84.36        64          25        1.23  \n",
       "..        ...       ...         ...         ...  \n",
       "513     82.56        82          85       17.52  \n",
       "514     66.20        63          20        4.70  \n",
       "515     61.00       100          75       12.75  \n",
       "516     78.40        61          28        1.50  \n",
       "517     75.24        26           0        7.78  \n",
       "\n",
       "[259 rows x 10 columns]"
      ]
     },
     "execution_count": 11,
     "metadata": {},
     "output_type": "execute_result"
    }
   ],
   "source": [
    "min_temp = float(input(\"what is the minimum temperaure you would like for your trip?\"))\n",
    "max_temp = float(input(\"what is the maximum temperaure you would like for your trip?\"))\n",
    "print(min_temp, max_temp)\n",
    "\n",
    "preferred_city_df = city_data_df.loc[(city_data_df[\"Max Temp\"] <= max_temp) & (city_data_df[\"Max Temp\"] >= min_temp)]\n",
    "\n",
    "preferred_city_df\n"
   ]
  },
  {
   "cell_type": "code",
   "execution_count": 9,
   "id": "wireless-pixel",
   "metadata": {},
   "outputs": [
    {
     "name": "stdout",
     "output_type": "stream",
     "text": [
      "City_ID       0\n",
      "City          0\n",
      "Country       2\n",
      "Date          0\n",
      "Lat           0\n",
      "Lng           0\n",
      "Max Temp      0\n",
      "Humidity      0\n",
      "Cloudiness    0\n",
      "Wind Speed    0\n",
      "dtype: int64\n",
      "City_ID       95\n",
      "City          95\n",
      "Country       93\n",
      "Date          95\n",
      "Lat           95\n",
      "Lng           95\n",
      "Max Temp      95\n",
      "Humidity      95\n",
      "Cloudiness    95\n",
      "Wind Speed    95\n",
      "dtype: int64\n",
      "City_ID       95\n",
      "City          95\n",
      "Country       93\n",
      "Date          95\n",
      "Lat           95\n",
      "Lng           95\n",
      "Max Temp      95\n",
      "Humidity      95\n",
      "Cloudiness    95\n",
      "Wind Speed    95\n",
      "dtype: int64\n"
     ]
    }
   ],
   "source": [
    "print(preferred_city_df.isnull().sum())\n",
    "print(preferred_city_df.notnull().sum())\n",
    "print(preferred_city_df.count())"
   ]
  },
  {
   "cell_type": "code",
   "execution_count": null,
   "id": "varied-lyric",
   "metadata": {},
   "outputs": [],
   "source": []
  }
 ],
 "metadata": {
  "kernelspec": {
   "display_name": "Python 3",
   "language": "python",
   "name": "python3"
  },
  "language_info": {
   "codemirror_mode": {
    "name": "ipython",
    "version": 3
   },
   "file_extension": ".py",
   "mimetype": "text/x-python",
   "name": "python",
   "nbconvert_exporter": "python",
   "pygments_lexer": "ipython3",
   "version": "3.8.5"
  },
  "toc": {
   "base_numbering": 1,
   "nav_menu": {},
   "number_sections": true,
   "sideBar": true,
   "skip_h1_title": false,
   "title_cell": "Table of Contents",
   "title_sidebar": "Contents",
   "toc_cell": false,
   "toc_position": {},
   "toc_section_display": true,
   "toc_window_display": false
  },
  "varInspector": {
   "cols": {
    "lenName": 16,
    "lenType": 16,
    "lenVar": 40
   },
   "kernels_config": {
    "python": {
     "delete_cmd_postfix": "",
     "delete_cmd_prefix": "del ",
     "library": "var_list.py",
     "varRefreshCmd": "print(var_dic_list())"
    },
    "r": {
     "delete_cmd_postfix": ") ",
     "delete_cmd_prefix": "rm(",
     "library": "var_list.r",
     "varRefreshCmd": "cat(var_dic_list()) "
    }
   },
   "types_to_exclude": [
    "module",
    "function",
    "builtin_function_or_method",
    "instance",
    "_Feature"
   ],
   "window_display": false
  }
 },
 "nbformat": 4,
 "nbformat_minor": 5
}