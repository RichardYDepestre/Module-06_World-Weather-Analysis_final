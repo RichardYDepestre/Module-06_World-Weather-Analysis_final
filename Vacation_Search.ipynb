{
 "cells": [
  {
   "cell_type": "markdown",
   "metadata": {},
   "source": [
    "## Deliverable 2. Create a Customer Travel Destinations Map."
   ]
  },
  {
   "cell_type": "code",
   "execution_count": 2,
   "metadata": {},
   "outputs": [],
   "source": [
    "# Dependencies and Setup\n",
    "import pandas as pd\n",
    "import requests\n",
    "import gmaps\n",
    "\n",
    "# Import API key\n",
    "from config import g_key\n",
    "\n",
    "# Configure gmaps API key\n",
    "gmaps.configure(api_key=g_key)"
   ]
  },
  {
   "cell_type": "code",
   "execution_count": 3,
   "metadata": {},
   "outputs": [
    {
     "output_type": "execute_result",
     "data": {
      "text/plain": [
       "   Unnamed: 0     City      Lat      Lng  Max Temp  Humidity  Cloudiness  \\\n",
       "0           0  Makokou   0.5738  12.8642    295.07        93          26   \n",
       "1           1     Boda   4.3189  17.4695    300.56        50          52   \n",
       "2           2  Foumban   5.7291  10.9001    297.62        39          92   \n",
       "3           3     Nola  40.9220  14.5329    285.93        77           0   \n",
       "4           4     Oron   4.8256   8.2343    300.55        80          35   \n",
       "\n",
       "   Wind Speed Country                 Date  \n",
       "0        0.65      GA  2021-03-28 19:31:26  \n",
       "1        1.67      CF  2021-03-28 19:31:26  \n",
       "2        0.83      CM  2021-03-28 19:31:27  \n",
       "3        0.67      IT  2021-03-28 19:31:27  \n",
       "4        2.43      NG  2021-03-28 19:31:27  "
      ],
      "text/html": "<div>\n<style scoped>\n    .dataframe tbody tr th:only-of-type {\n        vertical-align: middle;\n    }\n\n    .dataframe tbody tr th {\n        vertical-align: top;\n    }\n\n    .dataframe thead th {\n        text-align: right;\n    }\n</style>\n<table border=\"1\" class=\"dataframe\">\n  <thead>\n    <tr style=\"text-align: right;\">\n      <th></th>\n      <th>Unnamed: 0</th>\n      <th>City</th>\n      <th>Lat</th>\n      <th>Lng</th>\n      <th>Max Temp</th>\n      <th>Humidity</th>\n      <th>Cloudiness</th>\n      <th>Wind Speed</th>\n      <th>Country</th>\n      <th>Date</th>\n    </tr>\n  </thead>\n  <tbody>\n    <tr>\n      <th>0</th>\n      <td>0</td>\n      <td>Makokou</td>\n      <td>0.5738</td>\n      <td>12.8642</td>\n      <td>295.07</td>\n      <td>93</td>\n      <td>26</td>\n      <td>0.65</td>\n      <td>GA</td>\n      <td>2021-03-28 19:31:26</td>\n    </tr>\n    <tr>\n      <th>1</th>\n      <td>1</td>\n      <td>Boda</td>\n      <td>4.3189</td>\n      <td>17.4695</td>\n      <td>300.56</td>\n      <td>50</td>\n      <td>52</td>\n      <td>1.67</td>\n      <td>CF</td>\n      <td>2021-03-28 19:31:26</td>\n    </tr>\n    <tr>\n      <th>2</th>\n      <td>2</td>\n      <td>Foumban</td>\n      <td>5.7291</td>\n      <td>10.9001</td>\n      <td>297.62</td>\n      <td>39</td>\n      <td>92</td>\n      <td>0.83</td>\n      <td>CM</td>\n      <td>2021-03-28 19:31:27</td>\n    </tr>\n    <tr>\n      <th>3</th>\n      <td>3</td>\n      <td>Nola</td>\n      <td>40.9220</td>\n      <td>14.5329</td>\n      <td>285.93</td>\n      <td>77</td>\n      <td>0</td>\n      <td>0.67</td>\n      <td>IT</td>\n      <td>2021-03-28 19:31:27</td>\n    </tr>\n    <tr>\n      <th>4</th>\n      <td>4</td>\n      <td>Oron</td>\n      <td>4.8256</td>\n      <td>8.2343</td>\n      <td>300.55</td>\n      <td>80</td>\n      <td>35</td>\n      <td>2.43</td>\n      <td>NG</td>\n      <td>2021-03-28 19:31:27</td>\n    </tr>\n  </tbody>\n</table>\n</div>"
     },
     "metadata": {},
     "execution_count": 3
    }
   ],
   "source": [
    "# 1. Import the WeatherPy_database.csv file. \n",
    "city_data_df = pd.read_csv(\"..\\\\Weather_Database\\WeatherPy_database.csv\")\n",
    "city_data_df.head()"
   ]
  },
  {
   "cell_type": "code",
   "execution_count": 4,
   "metadata": {},
   "outputs": [
    {
     "output_type": "stream",
     "name": "stdout",
     "text": [
      "241.46\n",
      "304.9\n",
      "242.0 300.0\n"
     ]
    }
   ],
   "source": [
    "# 2. Prompt the user to enter minimum and maximum temperature criteria \n",
    "min_temp = min(city_data_df[\"Max Temp\"]);print(min_temp)\n",
    "max_temp = max(city_data_df[\"Max Temp\"]);print(max_temp)\n",
    "user_min_temp = float(input(f\"what is the minimum temperaure you would like for your trip (ranges between {min_temp} and {max_temp})?\"))\n",
    "user_max_temp = float(input(f\"what is the maximum temperaure you would like for your trip (ranges between {max_temp} and {max_temp})?\"))\n",
    "print(user_min_temp, user_max_temp)\n"
   ]
  },
  {
   "cell_type": "code",
   "execution_count": 5,
   "metadata": {},
   "outputs": [
    {
     "output_type": "execute_result",
     "data": {
      "text/plain": [
       "0"
      ]
     },
     "metadata": {},
     "execution_count": 5
    }
   ],
   "source": [
    "# 3. Filter the city_data_df DataFrame using the input statements to create a new DataFrame using the loc method.\n",
    "\n",
    "preferred_city_df = city_data_df.loc[(city_data_df[\"Max Temp\"] <= user_max_temp) & (city_data_df[\"Max Temp\"] >= user_min_temp)]\n",
    "\n",
    "preferred_city_df.isna().sum().sum()"
   ]
  },
  {
   "cell_type": "code",
   "execution_count": 6,
   "metadata": {},
   "outputs": [
    {
     "output_type": "stream",
     "name": "stdout",
     "text": [
      "There is/are 0 row(s) in dataframe 'preferred_city_df'.\n"
     ]
    }
   ],
   "source": [
    "import numpy as np\n",
    "# 4a. Determine if there are any empty rows.\n",
    "# preferred_city_df.count(preferred_city_df.isna)\n",
    "empty_rows = preferred_city_df.isnull().sum().sum()\n",
    "print(f\"There is/are {empty_rows} row(s) in dataframe 'preferred_city_df'.\")"
   ]
  },
  {
   "cell_type": "code",
   "execution_count": 7,
   "metadata": {},
   "outputs": [
    {
     "output_type": "execute_result",
     "data": {
      "text/plain": [
       "     Unnamed: 0           City      Lat       Lng  Max Temp  Humidity  \\\n",
       "0             0        Makokou   0.5738   12.8642    295.07        93   \n",
       "2             2        Foumban   5.7291   10.9001    297.62        39   \n",
       "3             3           Nola  40.9220   14.5329    285.93        77   \n",
       "6             6          Paoua   7.2427   16.4406    299.27        53   \n",
       "14           14            Mao  39.8885    4.2658    285.15        87   \n",
       "..          ...            ...      ...       ...       ...       ...   \n",
       "168         168       Cherskiy  68.7500  161.3000    250.22        93   \n",
       "169         169  Srednekolymsk  67.4500  153.6833    248.30        99   \n",
       "170         170         Anadyr  64.7500  177.4833    263.15        79   \n",
       "171         171         Kachug  53.9606  105.8817    264.89        96   \n",
       "172         172   Longyearbyen  78.2186   15.6401    273.15        74   \n",
       "\n",
       "     Cloudiness  Wind Speed Country                 Date  \n",
       "0            26        0.65      GA  2021-03-28 19:31:26  \n",
       "2            92        0.83      CM  2021-03-28 19:31:27  \n",
       "3             0        0.67      IT  2021-03-28 19:31:27  \n",
       "6            63        2.24      CF  2021-03-28 19:31:28  \n",
       "14            0        3.09      ES  2021-03-28 19:31:30  \n",
       "..          ...         ...     ...                  ...  \n",
       "168         100        0.33      RU  2021-03-28 19:32:09  \n",
       "169         100        2.13      RU  2021-03-28 19:32:10  \n",
       "170          75        8.00      RU  2021-03-28 19:32:10  \n",
       "171         100        0.51      RU  2021-03-28 19:32:10  \n",
       "172          20        1.03      SJ  2021-03-28 19:32:10  \n",
       "\n",
       "[148 rows x 10 columns]"
      ],
      "text/html": "<div>\n<style scoped>\n    .dataframe tbody tr th:only-of-type {\n        vertical-align: middle;\n    }\n\n    .dataframe tbody tr th {\n        vertical-align: top;\n    }\n\n    .dataframe thead th {\n        text-align: right;\n    }\n</style>\n<table border=\"1\" class=\"dataframe\">\n  <thead>\n    <tr style=\"text-align: right;\">\n      <th></th>\n      <th>Unnamed: 0</th>\n      <th>City</th>\n      <th>Lat</th>\n      <th>Lng</th>\n      <th>Max Temp</th>\n      <th>Humidity</th>\n      <th>Cloudiness</th>\n      <th>Wind Speed</th>\n      <th>Country</th>\n      <th>Date</th>\n    </tr>\n  </thead>\n  <tbody>\n    <tr>\n      <th>0</th>\n      <td>0</td>\n      <td>Makokou</td>\n      <td>0.5738</td>\n      <td>12.8642</td>\n      <td>295.07</td>\n      <td>93</td>\n      <td>26</td>\n      <td>0.65</td>\n      <td>GA</td>\n      <td>2021-03-28 19:31:26</td>\n    </tr>\n    <tr>\n      <th>2</th>\n      <td>2</td>\n      <td>Foumban</td>\n      <td>5.7291</td>\n      <td>10.9001</td>\n      <td>297.62</td>\n      <td>39</td>\n      <td>92</td>\n      <td>0.83</td>\n      <td>CM</td>\n      <td>2021-03-28 19:31:27</td>\n    </tr>\n    <tr>\n      <th>3</th>\n      <td>3</td>\n      <td>Nola</td>\n      <td>40.9220</td>\n      <td>14.5329</td>\n      <td>285.93</td>\n      <td>77</td>\n      <td>0</td>\n      <td>0.67</td>\n      <td>IT</td>\n      <td>2021-03-28 19:31:27</td>\n    </tr>\n    <tr>\n      <th>6</th>\n      <td>6</td>\n      <td>Paoua</td>\n      <td>7.2427</td>\n      <td>16.4406</td>\n      <td>299.27</td>\n      <td>53</td>\n      <td>63</td>\n      <td>2.24</td>\n      <td>CF</td>\n      <td>2021-03-28 19:31:28</td>\n    </tr>\n    <tr>\n      <th>14</th>\n      <td>14</td>\n      <td>Mao</td>\n      <td>39.8885</td>\n      <td>4.2658</td>\n      <td>285.15</td>\n      <td>87</td>\n      <td>0</td>\n      <td>3.09</td>\n      <td>ES</td>\n      <td>2021-03-28 19:31:30</td>\n    </tr>\n    <tr>\n      <th>...</th>\n      <td>...</td>\n      <td>...</td>\n      <td>...</td>\n      <td>...</td>\n      <td>...</td>\n      <td>...</td>\n      <td>...</td>\n      <td>...</td>\n      <td>...</td>\n      <td>...</td>\n    </tr>\n    <tr>\n      <th>168</th>\n      <td>168</td>\n      <td>Cherskiy</td>\n      <td>68.7500</td>\n      <td>161.3000</td>\n      <td>250.22</td>\n      <td>93</td>\n      <td>100</td>\n      <td>0.33</td>\n      <td>RU</td>\n      <td>2021-03-28 19:32:09</td>\n    </tr>\n    <tr>\n      <th>169</th>\n      <td>169</td>\n      <td>Srednekolymsk</td>\n      <td>67.4500</td>\n      <td>153.6833</td>\n      <td>248.30</td>\n      <td>99</td>\n      <td>100</td>\n      <td>2.13</td>\n      <td>RU</td>\n      <td>2021-03-28 19:32:10</td>\n    </tr>\n    <tr>\n      <th>170</th>\n      <td>170</td>\n      <td>Anadyr</td>\n      <td>64.7500</td>\n      <td>177.4833</td>\n      <td>263.15</td>\n      <td>79</td>\n      <td>75</td>\n      <td>8.00</td>\n      <td>RU</td>\n      <td>2021-03-28 19:32:10</td>\n    </tr>\n    <tr>\n      <th>171</th>\n      <td>171</td>\n      <td>Kachug</td>\n      <td>53.9606</td>\n      <td>105.8817</td>\n      <td>264.89</td>\n      <td>96</td>\n      <td>100</td>\n      <td>0.51</td>\n      <td>RU</td>\n      <td>2021-03-28 19:32:10</td>\n    </tr>\n    <tr>\n      <th>172</th>\n      <td>172</td>\n      <td>Longyearbyen</td>\n      <td>78.2186</td>\n      <td>15.6401</td>\n      <td>273.15</td>\n      <td>74</td>\n      <td>20</td>\n      <td>1.03</td>\n      <td>SJ</td>\n      <td>2021-03-28 19:32:10</td>\n    </tr>\n  </tbody>\n</table>\n<p>148 rows × 10 columns</p>\n</div>"
     },
     "metadata": {},
     "execution_count": 7
    }
   ],
   "source": [
    "# 4b. Drop any empty rows and create a new DataFrame that doesn’t have empty rows.\n",
    "preferred_city_df_cleaned = preferred_city_df.dropna()\n",
    "preferred_city_df_cleaned"
   ]
  },
  {
   "cell_type": "code",
   "execution_count": 8,
   "metadata": {},
   "outputs": [
    {
     "output_type": "execute_result",
     "data": {
      "text/plain": [
       "              City Country  Max Temp      Lat       Lng Hotel Name  \\\n",
       "0          Makokou      GA    295.07   0.5738   12.8642              \n",
       "2          Foumban      CM    297.62   5.7291   10.9001              \n",
       "3             Nola      IT    285.93  40.9220   14.5329              \n",
       "6            Paoua      CF    299.27   7.2427   16.4406              \n",
       "14             Mao      ES    285.15  39.8885    4.2658              \n",
       "..             ...     ...       ...      ...       ...        ...   \n",
       "168       Cherskiy      RU    250.22  68.7500  161.3000              \n",
       "169  Srednekolymsk      RU    248.30  67.4500  153.6833              \n",
       "170         Anadyr      RU    263.15  64.7500  177.4833              \n",
       "171         Kachug      RU    264.89  53.9606  105.8817              \n",
       "172   Longyearbyen      SJ    273.15  78.2186   15.6401              \n",
       "\n",
       "    Current Description  \n",
       "0                        \n",
       "2                        \n",
       "3                        \n",
       "6                        \n",
       "14                       \n",
       "..                  ...  \n",
       "168                      \n",
       "169                      \n",
       "170                      \n",
       "171                      \n",
       "172                      \n",
       "\n",
       "[148 rows x 7 columns]"
      ],
      "text/html": "<div>\n<style scoped>\n    .dataframe tbody tr th:only-of-type {\n        vertical-align: middle;\n    }\n\n    .dataframe tbody tr th {\n        vertical-align: top;\n    }\n\n    .dataframe thead th {\n        text-align: right;\n    }\n</style>\n<table border=\"1\" class=\"dataframe\">\n  <thead>\n    <tr style=\"text-align: right;\">\n      <th></th>\n      <th>City</th>\n      <th>Country</th>\n      <th>Max Temp</th>\n      <th>Lat</th>\n      <th>Lng</th>\n      <th>Hotel Name</th>\n      <th>Current Description</th>\n    </tr>\n  </thead>\n  <tbody>\n    <tr>\n      <th>0</th>\n      <td>Makokou</td>\n      <td>GA</td>\n      <td>295.07</td>\n      <td>0.5738</td>\n      <td>12.8642</td>\n      <td></td>\n      <td></td>\n    </tr>\n    <tr>\n      <th>2</th>\n      <td>Foumban</td>\n      <td>CM</td>\n      <td>297.62</td>\n      <td>5.7291</td>\n      <td>10.9001</td>\n      <td></td>\n      <td></td>\n    </tr>\n    <tr>\n      <th>3</th>\n      <td>Nola</td>\n      <td>IT</td>\n      <td>285.93</td>\n      <td>40.9220</td>\n      <td>14.5329</td>\n      <td></td>\n      <td></td>\n    </tr>\n    <tr>\n      <th>6</th>\n      <td>Paoua</td>\n      <td>CF</td>\n      <td>299.27</td>\n      <td>7.2427</td>\n      <td>16.4406</td>\n      <td></td>\n      <td></td>\n    </tr>\n    <tr>\n      <th>14</th>\n      <td>Mao</td>\n      <td>ES</td>\n      <td>285.15</td>\n      <td>39.8885</td>\n      <td>4.2658</td>\n      <td></td>\n      <td></td>\n    </tr>\n    <tr>\n      <th>...</th>\n      <td>...</td>\n      <td>...</td>\n      <td>...</td>\n      <td>...</td>\n      <td>...</td>\n      <td>...</td>\n      <td>...</td>\n    </tr>\n    <tr>\n      <th>168</th>\n      <td>Cherskiy</td>\n      <td>RU</td>\n      <td>250.22</td>\n      <td>68.7500</td>\n      <td>161.3000</td>\n      <td></td>\n      <td></td>\n    </tr>\n    <tr>\n      <th>169</th>\n      <td>Srednekolymsk</td>\n      <td>RU</td>\n      <td>248.30</td>\n      <td>67.4500</td>\n      <td>153.6833</td>\n      <td></td>\n      <td></td>\n    </tr>\n    <tr>\n      <th>170</th>\n      <td>Anadyr</td>\n      <td>RU</td>\n      <td>263.15</td>\n      <td>64.7500</td>\n      <td>177.4833</td>\n      <td></td>\n      <td></td>\n    </tr>\n    <tr>\n      <th>171</th>\n      <td>Kachug</td>\n      <td>RU</td>\n      <td>264.89</td>\n      <td>53.9606</td>\n      <td>105.8817</td>\n      <td></td>\n      <td></td>\n    </tr>\n    <tr>\n      <th>172</th>\n      <td>Longyearbyen</td>\n      <td>SJ</td>\n      <td>273.15</td>\n      <td>78.2186</td>\n      <td>15.6401</td>\n      <td></td>\n      <td></td>\n    </tr>\n  </tbody>\n</table>\n<p>148 rows × 7 columns</p>\n</div>"
     },
     "metadata": {},
     "execution_count": 8
    }
   ],
   "source": [
    "# 5a. Create DataFrame called hotel_df to store hotel names along with city, country, max temp, and coordinates.\n",
    "hotel_df = preferred_city_df_cleaned[[\"City\", \"Country\", \"Max Temp\", \"Lat\", \"Lng\"]].copy()\n",
    "\n",
    "# 5b. Create a new column \"Hotel Name\"\n",
    "hotel_df[\"Hotel Name\"] = \"\"\n",
    "hotel_df[\"Current Description\"] = \"\"\n",
    "hotel_df"
   ]
  },
  {
   "cell_type": "code",
   "execution_count": 9,
   "metadata": {},
   "outputs": [],
   "source": [
    "# Dependencies and Setup\n",
    "import requests\n",
    "import gmaps\n",
    "\n",
    "# Import API key\n",
    "from config import *\n",
    "\n",
    "# 6a. Set parameters to search for hotels with 5000 meters.\n",
    "params = {\n",
    "    \"radius\": 5000,\n",
    "    \"type\": \"lodging\",\n",
    "    \"key\": g_key,\n",
    "    \"location\": \"\"\n",
    "}\n",
    "\n",
    "# 6b. Iterate through the hotel DataFrame.\n",
    "\n",
    "# 6c. Get latitude and longitude from DataFrame\n",
    "lats =  preferred_city_df[\"Lat\"]\n",
    "longs = preferred_city_df[\"Lng\"]\n",
    "hotels_found = dict()\n",
    "# coordinates = zip(lats, longs)\n",
    "# coordinates_list = list(coordinates)\n",
    "for i, row in hotel_df.iterrows():\n",
    "    lat = row[\"Lat\"]\n",
    "    longit = row[\"Lng\"]\n",
    "    params[\"location\"] = f\"{lat}, {longit}\"\n",
    "    # print(params)\n",
    "# 6d. Set up the base URL for the Google Directions API to get JSON data.\n",
    "    base_url = \"https://maps.googleapis.com/maps/api/place/nearbysearch/json\"    \n",
    "    a_hotel = requests.get(base_url, params=params).json()\n",
    "    # print(base_url)\n",
    "# 6e. Make request and retrieve the JSON data from the search.\n",
    "    try:\n",
    "# 6f. Get the first hotel from the results and store the name, if a hotel isn't found skip the city.\n",
    "        a_hotel_name = a_hotel[\"results\"][0][\"name\"]\n",
    "        hotel_df.at[i, \"Hotel Name\"] = a_hotel_name\n",
    "    except(IndexError):\n",
    "        # print(\"Hotel not found...skipping.\")\n",
    "        pass\n",
    "    i+= 1\n",
    "\n",
    "        "
   ]
  },
  {
   "cell_type": "code",
   "execution_count": 10,
   "metadata": {},
   "outputs": [
    {
     "output_type": "execute_result",
     "data": {
      "text/plain": [
       "              City Country  Max Temp      Lat       Lng  \\\n",
       "0          Makokou      GA    295.07   0.5738   12.8642   \n",
       "2          Foumban      CM    297.62   5.7291   10.9001   \n",
       "3             Nola      IT    285.93  40.9220   14.5329   \n",
       "6            Paoua      CF    299.27   7.2427   16.4406   \n",
       "14             Mao      ES    285.15  39.8885    4.2658   \n",
       "..             ...     ...       ...      ...       ...   \n",
       "168       Cherskiy      RU    250.22  68.7500  161.3000   \n",
       "169  Srednekolymsk      RU    248.30  67.4500  153.6833   \n",
       "170         Anadyr      RU    263.15  64.7500  177.4833   \n",
       "171         Kachug      RU    264.89  53.9606  105.8817   \n",
       "172   Longyearbyen      SJ    273.15  78.2186   15.6401   \n",
       "\n",
       "                                Hotel Name Current Description  \n",
       "0                     WAMY RESIDENCE HOTEL                      \n",
       "2                  Hotel Pekassa De Karche                      \n",
       "3                            Pamaran Hotel                      \n",
       "6                     Quartier Paoua Elien                      \n",
       "14                            ARTIEM Capri                      \n",
       "..                                     ...                 ...  \n",
       "168                             Gostinitsa                      \n",
       "169                                                             \n",
       "170                    Гостиница \"Анадырь\"                      \n",
       "171                     The hotel \"Empire\"                      \n",
       "172  Radisson Blu Polar Hotel, Spitsbergen                      \n",
       "\n",
       "[148 rows x 7 columns]"
      ],
      "text/html": "<div>\n<style scoped>\n    .dataframe tbody tr th:only-of-type {\n        vertical-align: middle;\n    }\n\n    .dataframe tbody tr th {\n        vertical-align: top;\n    }\n\n    .dataframe thead th {\n        text-align: right;\n    }\n</style>\n<table border=\"1\" class=\"dataframe\">\n  <thead>\n    <tr style=\"text-align: right;\">\n      <th></th>\n      <th>City</th>\n      <th>Country</th>\n      <th>Max Temp</th>\n      <th>Lat</th>\n      <th>Lng</th>\n      <th>Hotel Name</th>\n      <th>Current Description</th>\n    </tr>\n  </thead>\n  <tbody>\n    <tr>\n      <th>0</th>\n      <td>Makokou</td>\n      <td>GA</td>\n      <td>295.07</td>\n      <td>0.5738</td>\n      <td>12.8642</td>\n      <td>WAMY RESIDENCE HOTEL</td>\n      <td></td>\n    </tr>\n    <tr>\n      <th>2</th>\n      <td>Foumban</td>\n      <td>CM</td>\n      <td>297.62</td>\n      <td>5.7291</td>\n      <td>10.9001</td>\n      <td>Hotel Pekassa De Karche</td>\n      <td></td>\n    </tr>\n    <tr>\n      <th>3</th>\n      <td>Nola</td>\n      <td>IT</td>\n      <td>285.93</td>\n      <td>40.9220</td>\n      <td>14.5329</td>\n      <td>Pamaran Hotel</td>\n      <td></td>\n    </tr>\n    <tr>\n      <th>6</th>\n      <td>Paoua</td>\n      <td>CF</td>\n      <td>299.27</td>\n      <td>7.2427</td>\n      <td>16.4406</td>\n      <td>Quartier Paoua Elien</td>\n      <td></td>\n    </tr>\n    <tr>\n      <th>14</th>\n      <td>Mao</td>\n      <td>ES</td>\n      <td>285.15</td>\n      <td>39.8885</td>\n      <td>4.2658</td>\n      <td>ARTIEM Capri</td>\n      <td></td>\n    </tr>\n    <tr>\n      <th>...</th>\n      <td>...</td>\n      <td>...</td>\n      <td>...</td>\n      <td>...</td>\n      <td>...</td>\n      <td>...</td>\n      <td>...</td>\n    </tr>\n    <tr>\n      <th>168</th>\n      <td>Cherskiy</td>\n      <td>RU</td>\n      <td>250.22</td>\n      <td>68.7500</td>\n      <td>161.3000</td>\n      <td>Gostinitsa</td>\n      <td></td>\n    </tr>\n    <tr>\n      <th>169</th>\n      <td>Srednekolymsk</td>\n      <td>RU</td>\n      <td>248.30</td>\n      <td>67.4500</td>\n      <td>153.6833</td>\n      <td></td>\n      <td></td>\n    </tr>\n    <tr>\n      <th>170</th>\n      <td>Anadyr</td>\n      <td>RU</td>\n      <td>263.15</td>\n      <td>64.7500</td>\n      <td>177.4833</td>\n      <td>Гостиница \"Анадырь\"</td>\n      <td></td>\n    </tr>\n    <tr>\n      <th>171</th>\n      <td>Kachug</td>\n      <td>RU</td>\n      <td>264.89</td>\n      <td>53.9606</td>\n      <td>105.8817</td>\n      <td>The hotel \"Empire\"</td>\n      <td></td>\n    </tr>\n    <tr>\n      <th>172</th>\n      <td>Longyearbyen</td>\n      <td>SJ</td>\n      <td>273.15</td>\n      <td>78.2186</td>\n      <td>15.6401</td>\n      <td>Radisson Blu Polar Hotel, Spitsbergen</td>\n      <td></td>\n    </tr>\n  </tbody>\n</table>\n<p>148 rows × 7 columns</p>\n</div>"
     },
     "metadata": {},
     "execution_count": 10
    }
   ],
   "source": [
    "# len(hotels_found)\n",
    "hotel_df"
   ]
  },
  {
   "cell_type": "code",
   "execution_count": 11,
   "metadata": {},
   "outputs": [
    {
     "output_type": "execute_result",
     "data": {
      "text/plain": [
       "             City Country  Max Temp      Lat       Lng  \\\n",
       "0         Makokou      GA    295.07   0.5738   12.8642   \n",
       "2         Foumban      CM    297.62   5.7291   10.9001   \n",
       "3            Nola      IT    285.93  40.9220   14.5329   \n",
       "6           Paoua      CF    299.27   7.2427   16.4406   \n",
       "14            Mao      ES    285.15  39.8885    4.2658   \n",
       "..            ...     ...       ...      ...       ...   \n",
       "167   Deputatskiy      RU    255.51  69.3000  139.9000   \n",
       "168      Cherskiy      RU    250.22  68.7500  161.3000   \n",
       "170        Anadyr      RU    263.15  64.7500  177.4833   \n",
       "171        Kachug      RU    264.89  53.9606  105.8817   \n",
       "172  Longyearbyen      SJ    273.15  78.2186   15.6401   \n",
       "\n",
       "                                Hotel Name  Current Description  \n",
       "0                     WAMY RESIDENCE HOTEL                  NaN  \n",
       "2                  Hotel Pekassa De Karche                  NaN  \n",
       "3                            Pamaran Hotel                  NaN  \n",
       "6                     Quartier Paoua Elien                  NaN  \n",
       "14                            ARTIEM Capri                  NaN  \n",
       "..                                     ...                  ...  \n",
       "167                           Baza Otdykha                  NaN  \n",
       "168                             Gostinitsa                  NaN  \n",
       "170                    Гостиница \"Анадырь\"                  NaN  \n",
       "171                     The hotel \"Empire\"                  NaN  \n",
       "172  Radisson Blu Polar Hotel, Spitsbergen                  NaN  \n",
       "\n",
       "[119 rows x 7 columns]"
      ],
      "text/html": "<div>\n<style scoped>\n    .dataframe tbody tr th:only-of-type {\n        vertical-align: middle;\n    }\n\n    .dataframe tbody tr th {\n        vertical-align: top;\n    }\n\n    .dataframe thead th {\n        text-align: right;\n    }\n</style>\n<table border=\"1\" class=\"dataframe\">\n  <thead>\n    <tr style=\"text-align: right;\">\n      <th></th>\n      <th>City</th>\n      <th>Country</th>\n      <th>Max Temp</th>\n      <th>Lat</th>\n      <th>Lng</th>\n      <th>Hotel Name</th>\n      <th>Current Description</th>\n    </tr>\n  </thead>\n  <tbody>\n    <tr>\n      <th>0</th>\n      <td>Makokou</td>\n      <td>GA</td>\n      <td>295.07</td>\n      <td>0.5738</td>\n      <td>12.8642</td>\n      <td>WAMY RESIDENCE HOTEL</td>\n      <td>NaN</td>\n    </tr>\n    <tr>\n      <th>2</th>\n      <td>Foumban</td>\n      <td>CM</td>\n      <td>297.62</td>\n      <td>5.7291</td>\n      <td>10.9001</td>\n      <td>Hotel Pekassa De Karche</td>\n      <td>NaN</td>\n    </tr>\n    <tr>\n      <th>3</th>\n      <td>Nola</td>\n      <td>IT</td>\n      <td>285.93</td>\n      <td>40.9220</td>\n      <td>14.5329</td>\n      <td>Pamaran Hotel</td>\n      <td>NaN</td>\n    </tr>\n    <tr>\n      <th>6</th>\n      <td>Paoua</td>\n      <td>CF</td>\n      <td>299.27</td>\n      <td>7.2427</td>\n      <td>16.4406</td>\n      <td>Quartier Paoua Elien</td>\n      <td>NaN</td>\n    </tr>\n    <tr>\n      <th>14</th>\n      <td>Mao</td>\n      <td>ES</td>\n      <td>285.15</td>\n      <td>39.8885</td>\n      <td>4.2658</td>\n      <td>ARTIEM Capri</td>\n      <td>NaN</td>\n    </tr>\n    <tr>\n      <th>...</th>\n      <td>...</td>\n      <td>...</td>\n      <td>...</td>\n      <td>...</td>\n      <td>...</td>\n      <td>...</td>\n      <td>...</td>\n    </tr>\n    <tr>\n      <th>167</th>\n      <td>Deputatskiy</td>\n      <td>RU</td>\n      <td>255.51</td>\n      <td>69.3000</td>\n      <td>139.9000</td>\n      <td>Baza Otdykha</td>\n      <td>NaN</td>\n    </tr>\n    <tr>\n      <th>168</th>\n      <td>Cherskiy</td>\n      <td>RU</td>\n      <td>250.22</td>\n      <td>68.7500</td>\n      <td>161.3000</td>\n      <td>Gostinitsa</td>\n      <td>NaN</td>\n    </tr>\n    <tr>\n      <th>170</th>\n      <td>Anadyr</td>\n      <td>RU</td>\n      <td>263.15</td>\n      <td>64.7500</td>\n      <td>177.4833</td>\n      <td>Гостиница \"Анадырь\"</td>\n      <td>NaN</td>\n    </tr>\n    <tr>\n      <th>171</th>\n      <td>Kachug</td>\n      <td>RU</td>\n      <td>264.89</td>\n      <td>53.9606</td>\n      <td>105.8817</td>\n      <td>The hotel \"Empire\"</td>\n      <td>NaN</td>\n    </tr>\n    <tr>\n      <th>172</th>\n      <td>Longyearbyen</td>\n      <td>SJ</td>\n      <td>273.15</td>\n      <td>78.2186</td>\n      <td>15.6401</td>\n      <td>Radisson Blu Polar Hotel, Spitsbergen</td>\n      <td>NaN</td>\n    </tr>\n  </tbody>\n</table>\n<p>119 rows × 7 columns</p>\n</div>"
     },
     "metadata": {},
     "execution_count": 11
    }
   ],
   "source": [
    "import pandas as pd\n",
    "import numpy as np\n",
    "hotel_df = hotel_df.replace(r'^\\s*$', np.nan, regex=True)\n",
    "hotel_df\n",
    "# 7. Drop the rows where there is no Hotel Name.\n",
    "empty_rows = hotel_df[\"Hotel Name\"].isna() #.sum().sum()\n",
    "\n",
    "hotel_df = hotel_df[hotel_df['Hotel Name'].notna()]\n",
    "hotel_df"
   ]
  },
  {
   "cell_type": "code",
   "execution_count": 12,
   "metadata": {},
   "outputs": [],
   "source": [
    "# 8a. Create the output File (CSV)\n",
    "output_data_file = \"..\\Weather_Database\\weatherpy_vacation.csv\"\n",
    "# 8b. Export the City_Data into a csv\n",
    "hotel_df.to_csv(output_data_file, index_label=\"City_ID\")"
   ]
  },
  {
   "cell_type": "code",
   "execution_count": 13,
   "metadata": {},
   "outputs": [
    {
     "output_type": "execute_result",
     "data": {
      "text/plain": [
       "         Lat       Lng\n",
       "0     0.5738   12.8642\n",
       "2     5.7291   10.9001\n",
       "3    40.9220   14.5329\n",
       "6     7.2427   16.4406\n",
       "14   39.8885    4.2658\n",
       "..       ...       ...\n",
       "167  69.3000  139.9000\n",
       "168  68.7500  161.3000\n",
       "170  64.7500  177.4833\n",
       "171  53.9606  105.8817\n",
       "172  78.2186   15.6401\n",
       "\n",
       "[119 rows x 2 columns]"
      ],
      "text/html": "<div>\n<style scoped>\n    .dataframe tbody tr th:only-of-type {\n        vertical-align: middle;\n    }\n\n    .dataframe tbody tr th {\n        vertical-align: top;\n    }\n\n    .dataframe thead th {\n        text-align: right;\n    }\n</style>\n<table border=\"1\" class=\"dataframe\">\n  <thead>\n    <tr style=\"text-align: right;\">\n      <th></th>\n      <th>Lat</th>\n      <th>Lng</th>\n    </tr>\n  </thead>\n  <tbody>\n    <tr>\n      <th>0</th>\n      <td>0.5738</td>\n      <td>12.8642</td>\n    </tr>\n    <tr>\n      <th>2</th>\n      <td>5.7291</td>\n      <td>10.9001</td>\n    </tr>\n    <tr>\n      <th>3</th>\n      <td>40.9220</td>\n      <td>14.5329</td>\n    </tr>\n    <tr>\n      <th>6</th>\n      <td>7.2427</td>\n      <td>16.4406</td>\n    </tr>\n    <tr>\n      <th>14</th>\n      <td>39.8885</td>\n      <td>4.2658</td>\n    </tr>\n    <tr>\n      <th>...</th>\n      <td>...</td>\n      <td>...</td>\n    </tr>\n    <tr>\n      <th>167</th>\n      <td>69.3000</td>\n      <td>139.9000</td>\n    </tr>\n    <tr>\n      <th>168</th>\n      <td>68.7500</td>\n      <td>161.3000</td>\n    </tr>\n    <tr>\n      <th>170</th>\n      <td>64.7500</td>\n      <td>177.4833</td>\n    </tr>\n    <tr>\n      <th>171</th>\n      <td>53.9606</td>\n      <td>105.8817</td>\n    </tr>\n    <tr>\n      <th>172</th>\n      <td>78.2186</td>\n      <td>15.6401</td>\n    </tr>\n  </tbody>\n</table>\n<p>119 rows × 2 columns</p>\n</div>"
     },
     "metadata": {},
     "execution_count": 13
    }
   ],
   "source": [
    "# 9. Using the template add city name, the country code, the weather description and maximum temperature for the city.\n",
    "info_box_template = \"\"\"\n",
    "<dl>\n",
    "<dt>Hotel Name</dt><dd>{Hotel Name}</dd>\n",
    "<dt>City</dt><dd>{City}</dd>\n",
    "<dt>Country</dt><dd>{Country}</dd>\n",
    "<dt>Max Temp</dt><dd>{Max Temp} °F</dd>\n",
    "</dl>\n",
    "\"\"\"\n",
    "\n",
    "# 10a. Get the data from each row and add it to the formatting template and store the data in a list.\n",
    "hotel_info = [info_box_template.format(**row) for index, row in hotel_df.iterrows()]\n",
    "\n",
    "# 10b. Get the latitude and longitude from each row and store in a new DataFrame.\n",
    "locations = hotel_df[[\"Lat\", \"Lng\"]]\n",
    "locations"
   ]
  },
  {
   "cell_type": "code",
   "execution_count": 14,
   "metadata": {},
   "outputs": [
    {
     "output_type": "display_data",
     "data": {
      "text/plain": "Figure(layout=FigureLayout(height='420px'))",
      "application/vnd.jupyter.widget-view+json": {
       "version_major": 2,
       "version_minor": 0,
       "model_id": "5172ebabd8704253ae65f519640fa257"
      }
     },
     "metadata": {}
    }
   ],
   "source": [
    "# 11a. Add a marker layer for each city to the map. \n",
    "import gmaps\n",
    "locations = hotel_df[[\"Lat\", \"Lng\"]]\n",
    "fig = gmaps.figure(center=(30.0, 31.0), zoom_level=1.5)\n",
    "max_temp = hotel_df[\"Max Temp\"]\n",
    "\n",
    "heat_layer = gmaps.heatmap_layer(locations, weights=max_temp,dissipating=False,\n",
    "             max_intensity=300, point_radius=4)\n",
    "marker_layer = gmaps.marker_layer(locations, info_box_content=hotel_info)\n",
    "fig.add_layer(heat_layer)\n",
    "fig.add_layer(marker_layer)\n",
    "\n",
    "# 11b. Display the figure\n",
    "fig"
   ]
  },
  {
   "cell_type": "code",
   "execution_count": null,
   "metadata": {},
   "outputs": [],
   "source": []
  }
 ],
 "metadata": {
  "kernelspec": {
   "display_name": "PythonData",
   "language": "python",
   "name": "pythondata"
  },
  "language_info": {
   "codemirror_mode": {
    "name": "ipython",
    "version": 3
   },
   "file_extension": ".py",
   "mimetype": "text/x-python",
   "name": "python",
   "nbconvert_exporter": "python",
   "pygments_lexer": "ipython3",
   "version": "3.8.5-final"
  },
  "latex_envs": {
   "LaTeX_envs_menu_present": true,
   "autoclose": false,
   "autocomplete": true,
   "bibliofile": "biblio.bib",
   "cite_by": "apalike",
   "current_citInitial": 1,
   "eqLabelWithNumbers": true,
   "eqNumInitial": 1,
   "hotkeys": {
    "equation": "Ctrl-E",
    "itemize": "Ctrl-I"
   },
   "labels_anchors": false,
   "latex_user_defs": false,
   "report_style_numbering": false,
   "user_envs_cfg": false
  }
 },
 "nbformat": 4,
 "nbformat_minor": 2
}