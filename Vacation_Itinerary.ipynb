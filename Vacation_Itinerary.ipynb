{
 "cells": [
  {
   "cell_type": "markdown",
   "metadata": {},
   "source": [
    "## Deliverable 3. Create a Travel Itinerary Map."
   ]
  },
  {
   "cell_type": "code",
   "execution_count": 175,
   "metadata": {},
   "outputs": [],
   "source": [
    "# Dependencies and Setup\n",
    "import pandas as pd\n",
    "import requests\n",
    "import gmaps\n",
    "\n",
    "# Import API key\n",
    "from config import g_key\n",
    "\n",
    "# Configure gmaps\n",
    "gmaps.configure(api_key=g_key)"
   ]
  },
  {
   "cell_type": "code",
   "execution_count": 176,
   "metadata": {},
   "outputs": [
    {
     "output_type": "execute_result",
     "data": {
      "text/plain": [
       "   City_ID     City Country  Max Temp      Lat      Lng  \\\n",
       "0        0  Makokou      GA    295.07   0.5738  12.8642   \n",
       "1        2  Foumban      CM    297.62   5.7291  10.9001   \n",
       "2        3     Nola      IT    285.93  40.9220  14.5329   \n",
       "3        6    Paoua      CF    299.27   7.2427  16.4406   \n",
       "4       14      Mao      ES    285.15  39.8885   4.2658   \n",
       "\n",
       "                Hotel Name  Current Description  \n",
       "0     WAMY RESIDENCE HOTEL                  NaN  \n",
       "1  Hotel Pekassa De Karche                  NaN  \n",
       "2            Pamaran Hotel                  NaN  \n",
       "3     Quartier Paoua Elien                  NaN  \n",
       "4             ARTIEM Capri                  NaN  "
      ],
      "text/html": "<div>\n<style scoped>\n    .dataframe tbody tr th:only-of-type {\n        vertical-align: middle;\n    }\n\n    .dataframe tbody tr th {\n        vertical-align: top;\n    }\n\n    .dataframe thead th {\n        text-align: right;\n    }\n</style>\n<table border=\"1\" class=\"dataframe\">\n  <thead>\n    <tr style=\"text-align: right;\">\n      <th></th>\n      <th>City_ID</th>\n      <th>City</th>\n      <th>Country</th>\n      <th>Max Temp</th>\n      <th>Lat</th>\n      <th>Lng</th>\n      <th>Hotel Name</th>\n      <th>Current Description</th>\n    </tr>\n  </thead>\n  <tbody>\n    <tr>\n      <th>0</th>\n      <td>0</td>\n      <td>Makokou</td>\n      <td>GA</td>\n      <td>295.07</td>\n      <td>0.5738</td>\n      <td>12.8642</td>\n      <td>WAMY RESIDENCE HOTEL</td>\n      <td>NaN</td>\n    </tr>\n    <tr>\n      <th>1</th>\n      <td>2</td>\n      <td>Foumban</td>\n      <td>CM</td>\n      <td>297.62</td>\n      <td>5.7291</td>\n      <td>10.9001</td>\n      <td>Hotel Pekassa De Karche</td>\n      <td>NaN</td>\n    </tr>\n    <tr>\n      <th>2</th>\n      <td>3</td>\n      <td>Nola</td>\n      <td>IT</td>\n      <td>285.93</td>\n      <td>40.9220</td>\n      <td>14.5329</td>\n      <td>Pamaran Hotel</td>\n      <td>NaN</td>\n    </tr>\n    <tr>\n      <th>3</th>\n      <td>6</td>\n      <td>Paoua</td>\n      <td>CF</td>\n      <td>299.27</td>\n      <td>7.2427</td>\n      <td>16.4406</td>\n      <td>Quartier Paoua Elien</td>\n      <td>NaN</td>\n    </tr>\n    <tr>\n      <th>4</th>\n      <td>14</td>\n      <td>Mao</td>\n      <td>ES</td>\n      <td>285.15</td>\n      <td>39.8885</td>\n      <td>4.2658</td>\n      <td>ARTIEM Capri</td>\n      <td>NaN</td>\n    </tr>\n  </tbody>\n</table>\n</div>"
     },
     "metadata": {},
     "execution_count": 176
    }
   ],
   "source": [
    "# 1. Read the WeatherPy_vacation.csv into a DataFrame.\n",
    "vacation_df = pd.read_csv(\"..\\Weather_Database\\weatherpy_vacation.csv\")\n",
    "vacation_df.head()"
   ]
  },
  {
   "cell_type": "code",
   "execution_count": 177,
   "metadata": {},
   "outputs": [
    {
     "output_type": "execute_result",
     "data": {
      "text/plain": [
       "         Lat       Lng\n",
       "0     0.5738   12.8642\n",
       "1     5.7291   10.9001\n",
       "2    40.9220   14.5329\n",
       "3     7.2427   16.4406\n",
       "4    39.8885    4.2658\n",
       "..       ...       ...\n",
       "114  69.3000  139.9000\n",
       "115  68.7500  161.3000\n",
       "116  64.7500  177.4833\n",
       "117  53.9606  105.8817\n",
       "118  78.2186   15.6401\n",
       "\n",
       "[119 rows x 2 columns]"
      ],
      "text/html": "<div>\n<style scoped>\n    .dataframe tbody tr th:only-of-type {\n        vertical-align: middle;\n    }\n\n    .dataframe tbody tr th {\n        vertical-align: top;\n    }\n\n    .dataframe thead th {\n        text-align: right;\n    }\n</style>\n<table border=\"1\" class=\"dataframe\">\n  <thead>\n    <tr style=\"text-align: right;\">\n      <th></th>\n      <th>Lat</th>\n      <th>Lng</th>\n    </tr>\n  </thead>\n  <tbody>\n    <tr>\n      <th>0</th>\n      <td>0.5738</td>\n      <td>12.8642</td>\n    </tr>\n    <tr>\n      <th>1</th>\n      <td>5.7291</td>\n      <td>10.9001</td>\n    </tr>\n    <tr>\n      <th>2</th>\n      <td>40.9220</td>\n      <td>14.5329</td>\n    </tr>\n    <tr>\n      <th>3</th>\n      <td>7.2427</td>\n      <td>16.4406</td>\n    </tr>\n    <tr>\n      <th>4</th>\n      <td>39.8885</td>\n      <td>4.2658</td>\n    </tr>\n    <tr>\n      <th>...</th>\n      <td>...</td>\n      <td>...</td>\n    </tr>\n    <tr>\n      <th>114</th>\n      <td>69.3000</td>\n      <td>139.9000</td>\n    </tr>\n    <tr>\n      <th>115</th>\n      <td>68.7500</td>\n      <td>161.3000</td>\n    </tr>\n    <tr>\n      <th>116</th>\n      <td>64.7500</td>\n      <td>177.4833</td>\n    </tr>\n    <tr>\n      <th>117</th>\n      <td>53.9606</td>\n      <td>105.8817</td>\n    </tr>\n    <tr>\n      <th>118</th>\n      <td>78.2186</td>\n      <td>15.6401</td>\n    </tr>\n  </tbody>\n</table>\n<p>119 rows × 2 columns</p>\n</div>"
     },
     "metadata": {},
     "execution_count": 177
    }
   ],
   "source": [
    "# 2. Using the template add the city name, the country code, the weather description and maximum temperature for the city.\n",
    "info_box_template = \"\"\"\n",
    "<dl>\n",
    "<dt>Hotel Name</dt><dd>{Hotel Name}</dd>\n",
    "<dt>City</dt><dd>{City}</dd>\n",
    "<dt>Country</dt><dd>{Country}</dd>\n",
    "<dt>Current Description</dt><dd>{Current Description}</dd>\n",
    "<dt>Max Temp</dt><dd>{Max Temp} °F</dd>\n",
    "</dl>\n",
    "\"\"\"\n",
    "\n",
    "# 3a. Get the data from each row and add it to the formatting template and store the data in a list.\n",
    "clean_hotel_df = vacation_df\n",
    "hotel_info = [info_box_template.format(**row) for index, row in clean_hotel_df.iterrows()]\n",
    "\n",
    "# 3b. Get the latitude and longitude from each row and store in a new DataFrame.\n",
    "locations = clean_hotel_df[[\"Lat\", \"Lng\"]]\n",
    "locations"
   ]
  },
  {
   "cell_type": "code",
   "execution_count": 178,
   "metadata": {},
   "outputs": [
    {
     "output_type": "display_data",
     "data": {
      "text/plain": "Figure(layout=FigureLayout(height='420px'))",
      "application/vnd.jupyter.widget-view+json": {
       "version_major": 2,
       "version_minor": 0,
       "model_id": "815b2dbc8a1b4babab754a395cb1dddc"
      }
     },
     "metadata": {}
    }
   ],
   "source": [
    "# 4a. Add a marker layer for each city to the map.\n",
    "import gmaps\n",
    "locations = clean_hotel_df[[\"Lat\", \"Lng\"]]\n",
    "fig = gmaps.figure(center=(30.0, 31.0), zoom_level=1.5)\n",
    "max_temp = clean_hotel_df[\"Max Temp\"]\n",
    "\n",
    "heat_layer = gmaps.heatmap_layer(locations, weights=max_temp,dissipating=False,\n",
    "             max_intensity=300, point_radius=4)\n",
    "marker_layer = gmaps.marker_layer(locations, info_box_content=hotel_info)\n",
    "fig.add_layer(heat_layer)\n",
    "fig.add_layer(marker_layer)\n",
    "\n",
    "# 4b. Display the figure\n",
    "fig"
   ]
  },
  {
   "cell_type": "code",
   "execution_count": 179,
   "metadata": {},
   "outputs": [],
   "source": [
    "# From the map above pick 4 cities and create a vacation itinerary route to travel between the four cities. \n",
    "# 5. Create DataFrames for each city by filtering the 'vacation_df' using the loc method. \n",
    "# Hint: The starting and ending city should be the same city.\n",
    "vacation_df = clean_hotel_df.loc[clean_hotel_df['Country'] == 'RU']\n",
    "# vacation_df.head(4)\n",
    "vacation_start = vacation_df.loc[vacation_df['City'] == 'Divnoye']\n",
    "# vacation_start\n",
    "vacation_end = vacation_df.loc[vacation_df['City'] == 'Divnoye']\n",
    "vacation_stop1 = vacation_df.loc[vacation_df['City'] == 'Derbent']\n",
    "vacation_stop2 = vacation_df.loc[vacation_df['City'] == 'Onguday'] \n",
    "vacation_stop3 = vacation_df.loc[vacation_df['City'] == 'Kuytun'] "
   ]
  },
  {
   "cell_type": "code",
   "execution_count": 180,
   "metadata": {},
   "outputs": [],
   "source": [
    "# 6. Get the latitude-longitude pairs as tuples from each city DataFrame using the to_numpy function and list indexing.\n",
    "import numpy as np\n",
    "\n",
    "start = pd.DataFrame(vacation_start, columns=['Lat', 'Lng'])\n",
    "stop1 = pd.DataFrame(vacation_stop1, columns=['Lat', 'Lng'])\n",
    "stop2 = pd.DataFrame(vacation_stop2, columns=['Lat', 'Lng'])\n",
    "stop3 = pd.DataFrame(vacation_stop3, columns=['Lat', 'Lng'])\n",
    "itinerary_concat = pd.concat([start, stop1, stop2, stop3] ,ignore_index=True)\n",
    "itinerary_concat = pd.DataFrame(itinerary_concat).to_numpy\n",
    "a_list = list()\n",
    "a_list.append(start.values.tolist())\n",
    "a_list.append(stop1.values.tolist())\n",
    "a_list.append(stop2.values.tolist())\n",
    "a_list.append(stop3.values.tolist())\n",
    "\n",
    "# print(itinerary_concat)\n",
    "# print(a_list[0][0][0])\n",
    "# print(another_list)"
   ]
  },
  {
   "cell_type": "code",
   "execution_count": 181,
   "metadata": {
    "scrolled": true
   },
   "outputs": [
    {
     "output_type": "stream",
     "name": "stdout",
     "text": [
      "(45.9089, 45.9089) (42.0678, 48.2899) (50.75, 86.15) (54.3419, 101.5036)\n"
     ]
    },
    {
     "output_type": "display_data",
     "data": {
      "text/plain": "Figure(layout=FigureLayout(height='420px'))",
      "application/vnd.jupyter.widget-view+json": {
       "version_major": 2,
       "version_minor": 0,
       "model_id": "8199e2fc0f3c46a3a62c3774440f2bc5"
      }
     },
     "metadata": {}
    }
   ],
   "source": [
    "# 7. Create a direction layer map using the start and end latitude-longitude pairs,\n",
    "# and stop1, stop2, and stop3 as the waypoints. The travel_mode should be \"DRIVING\", \"BICYCLING\", or \"WALKING\".\n",
    "Divnoye = (a_list[0][0][0], a_list[0][0][1]) #(45.9089, 43.3547)\n",
    "Divnoye= (a_list[0][0][0], a_list[0][0][0]) #(45.9089,    43.3547)\n",
    "Derbent = (a_list[1][0][0], a_list[1][0][1]) #(42.0678, 48.2899\t)\n",
    "Kuytun = (a_list[2][0][0], a_list[2][0][1]) #(54.3419, 101.5036)\n",
    "Onguday =  (a_list[3][0][0], a_list[3][0][1]) #(50.7500,\t86.1500)\n",
    "print(Divnoye,Derbent,Kuytun,Onguday)\n",
    "fig = gmaps.figure()\n",
    "Itinerary = gmaps.directions_layer(Divnoye, Divnoye, waypoints=[Kuytun, Onguday], travel_mode=\"DRIVING\")\n",
    "fig.add_layer(Itinerary)\n",
    "fig\n"
   ]
  },
  {
   "cell_type": "code",
   "execution_count": 182,
   "metadata": {},
   "outputs": [
    {
     "output_type": "execute_result",
     "data": {
      "text/plain": [
       "   City_ID     City Country  Max Temp      Lat       Lng  \\\n",
       "0       38  Divnoye      RU    276.56  45.9089   43.3547   \n",
       "1       89  Derbent      RU    281.55  42.0678   48.2899   \n",
       "2      103  Onguday      RU    273.31  50.7500   86.1500   \n",
       "3       98   Kuytun      RU    263.80  54.3419  101.5036   \n",
       "\n",
       "                 Hotel Name  Current Description  \n",
       "0       Motel Manych-Gudilo                  NaN  \n",
       "1                      Elit                  NaN  \n",
       "2       Gostinitsa \"Motel'\"                  NaN  \n",
       "3  Gostinitsa Tsentral'naya                  NaN  "
      ],
      "text/html": "<div>\n<style scoped>\n    .dataframe tbody tr th:only-of-type {\n        vertical-align: middle;\n    }\n\n    .dataframe tbody tr th {\n        vertical-align: top;\n    }\n\n    .dataframe thead th {\n        text-align: right;\n    }\n</style>\n<table border=\"1\" class=\"dataframe\">\n  <thead>\n    <tr style=\"text-align: right;\">\n      <th></th>\n      <th>City_ID</th>\n      <th>City</th>\n      <th>Country</th>\n      <th>Max Temp</th>\n      <th>Lat</th>\n      <th>Lng</th>\n      <th>Hotel Name</th>\n      <th>Current Description</th>\n    </tr>\n  </thead>\n  <tbody>\n    <tr>\n      <th>0</th>\n      <td>38</td>\n      <td>Divnoye</td>\n      <td>RU</td>\n      <td>276.56</td>\n      <td>45.9089</td>\n      <td>43.3547</td>\n      <td>Motel Manych-Gudilo</td>\n      <td>NaN</td>\n    </tr>\n    <tr>\n      <th>1</th>\n      <td>89</td>\n      <td>Derbent</td>\n      <td>RU</td>\n      <td>281.55</td>\n      <td>42.0678</td>\n      <td>48.2899</td>\n      <td>Elit</td>\n      <td>NaN</td>\n    </tr>\n    <tr>\n      <th>2</th>\n      <td>103</td>\n      <td>Onguday</td>\n      <td>RU</td>\n      <td>273.31</td>\n      <td>50.7500</td>\n      <td>86.1500</td>\n      <td>Gostinitsa \"Motel'\"</td>\n      <td>NaN</td>\n    </tr>\n    <tr>\n      <th>3</th>\n      <td>98</td>\n      <td>Kuytun</td>\n      <td>RU</td>\n      <td>263.80</td>\n      <td>54.3419</td>\n      <td>101.5036</td>\n      <td>Gostinitsa Tsentral'naya</td>\n      <td>NaN</td>\n    </tr>\n  </tbody>\n</table>\n</div>"
     },
     "metadata": {},
     "execution_count": 182
    }
   ],
   "source": [
    "# 8. To create a marker layer map between the four cities.\n",
    "#  Combine the four city DataFrames into one DataFrame using the concat() function.\n",
    "itinerary_df = pd.concat([vacation_start, vacation_stop1, vacation_stop2, vacation_stop3],ignore_index=True)\n",
    "itinerary_df"
   ]
  },
  {
   "cell_type": "code",
   "execution_count": 183,
   "metadata": {},
   "outputs": [
    {
     "output_type": "execute_result",
     "data": {
      "text/plain": [
       "['\\n<dl>\\n<dt>Hotel Name</dt><dd>Motel Manych-Gudilo</dd>\\n<dt>City</dt><dd>Divnoye</dd>\\n<dt>Country</dt><dd>RU</dd>\\n<dt>Current Description</dt><dd>nan</dd>\\n<dt>Max Temp</dt><dd>276.56 °F</dd>\\n</dl>\\n',\n",
       " '\\n<dl>\\n<dt>Hotel Name</dt><dd>Elit</dd>\\n<dt>City</dt><dd>Derbent</dd>\\n<dt>Country</dt><dd>RU</dd>\\n<dt>Current Description</dt><dd>nan</dd>\\n<dt>Max Temp</dt><dd>281.55 °F</dd>\\n</dl>\\n',\n",
       " '\\n<dl>\\n<dt>Hotel Name</dt><dd>Gostinitsa \"Motel\\'\"</dd>\\n<dt>City</dt><dd>Onguday</dd>\\n<dt>Country</dt><dd>RU</dd>\\n<dt>Current Description</dt><dd>nan</dd>\\n<dt>Max Temp</dt><dd>273.31 °F</dd>\\n</dl>\\n',\n",
       " \"\\n<dl>\\n<dt>Hotel Name</dt><dd>Gostinitsa Tsentral'naya</dd>\\n<dt>City</dt><dd>Kuytun</dd>\\n<dt>Country</dt><dd>RU</dd>\\n<dt>Current Description</dt><dd>nan</dd>\\n<dt>Max Temp</dt><dd>263.8 °F</dd>\\n</dl>\\n\"]"
      ]
     },
     "metadata": {},
     "execution_count": 183
    }
   ],
   "source": [
    "# 9 Using the template add city name, the country code, the weather description and maximum temperature for the city. \n",
    "info_box_template = \"\"\"\n",
    "<dl>\n",
    "<dt>Hotel Name</dt><dd>{Hotel Name}</dd>\n",
    "<dt>City</dt><dd>{City}</dd>\n",
    "<dt>Country</dt><dd>{Country}</dd>\n",
    "<dt>Current Description</dt><dd>{Current Description}</dd>\n",
    "<dt>Max Temp</dt><dd>{Max Temp} °F</dd>\n",
    "</dl>\n",
    "\"\"\"\n",
    "\n",
    "# 10a Get the data from each row and add it to the formatting template and store the data in a list.\n",
    "hotel_info = [info_box_template.format(**row) for index, row in itinerary_df.iterrows()]\n",
    "\n",
    "# 10b. Get the latitude and longitude from each row and store in a new DataFrame.\n",
    "locations = itinerary_df[[\"Lat\", \"Lng\"]]\n",
    "hotel_info"
   ]
  },
  {
   "cell_type": "code",
   "execution_count": 184,
   "metadata": {},
   "outputs": [
    {
     "output_type": "display_data",
     "data": {
      "text/plain": "Figure(layout=FigureLayout(height='420px'))",
      "application/vnd.jupyter.widget-view+json": {
       "version_major": 2,
       "version_minor": 0,
       "model_id": "53770cae65ad4e41b97b8f4b8d509f2e"
      }
     },
     "metadata": {}
    }
   ],
   "source": [
    "# 11a. Add a marker layer for each city to the map.\n",
    "import gmaps\n",
    "locations = itinerary_df[[\"Lat\", \"Lng\"]]\n",
    "fig = gmaps.figure(center=(30.0, 31.0), zoom_level=1.5)\n",
    "max_temp = itinerary_df[\"Max Temp\"]\n",
    "\n",
    "heat_layer = gmaps.heatmap_layer(locations, weights=max_temp,dissipating=False,\n",
    "             max_intensity=300, point_radius=4)\n",
    "marker_layer = gmaps.marker_layer(locations, info_box_content=hotel_info)\n",
    "fig.add_layer(heat_layer)\n",
    "fig.add_layer(marker_layer)\n",
    "# 11b. Display the figure\n",
    "fig"
   ]
  },
  {
   "cell_type": "code",
   "execution_count": null,
   "metadata": {},
   "outputs": [],
   "source": []
  }
 ],
 "metadata": {
  "kernelspec": {
   "display_name": "PythonData",
   "language": "python",
   "name": "pythondata"
  },
  "language_info": {
   "codemirror_mode": {
    "name": "ipython",
    "version": 3
   },
   "file_extension": ".py",
   "mimetype": "text/x-python",
   "name": "python",
   "nbconvert_exporter": "python",
   "pygments_lexer": "ipython3",
   "version": "3.8.5-final"
  },
  "latex_envs": {
   "LaTeX_envs_menu_present": true,
   "autoclose": false,
   "autocomplete": true,
   "bibliofile": "biblio.bib",
   "cite_by": "apalike",
   "current_citInitial": 1,
   "eqLabelWithNumbers": true,
   "eqNumInitial": 1,
   "hotkeys": {
    "equation": "Ctrl-E",
    "itemize": "Ctrl-I"
   },
   "labels_anchors": false,
   "latex_user_defs": false,
   "report_style_numbering": false,
   "user_envs_cfg": false
  }
 },
 "nbformat": 4,
 "nbformat_minor": 2
}