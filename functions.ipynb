{
 "cells": [
  {
   "cell_type": "code",
   "execution_count": 6,
   "id": "ambient-phenomenon",
   "metadata": {},
   "outputs": [],
   "source": [
    "import numpy as np\n",
    "import os\n",
    "\n",
    "def get_latitudes(x, y, size):\n",
    "    latitudes = list()\n",
    "    latitudes = [np.random.uniform(x, y) + np.random.random()\n",
    "                 for x in np.arange(start=0, stop=int(size), step=1)]\n",
    "    return latitudes\n",
    "\n",
    "# partial credit to various resources on the internet\n",
    "def create_target_dir(curr_dir, new_dir, file_name):\n",
    "    target_loc = \"\"\n",
    "    mode = 0o666\n",
    "    try:\n",
    "        if (not os.path.isdir(new_dir)):\n",
    "            target_loc =   os.mkdir(curr_dir + \"\\\\\" + new_dir, mode)\n",
    "        else: \n",
    "            target_loc = curr_dir + \"\\\\\" + new_dir\n",
    "    except OSError as error:\n",
    "        return error\n",
    "        pass\n",
    "\n",
    "    return target_loc + \"\\\\\" + file_name\n",
    "#\n",
    "from datetime import datetime\n",
    "from config import *\n",
    "import numpy as np\n",
    "#\n",
    "city_data = list()\n",
    "\n",
    "def get_weather_by_city(cities):\n",
    "    # data hold\n",
    "\n",
    "    # logging starts.\n",
    "    print(\"-----------------------------\")\n",
    "    print(\"Beginning Data Retrieval     \")\n",
    "    print(\"-----------------------------\")\n",
    "    #\n",
    "    # set counters.\n",
    "    set_count = 1\n",
    "    record_count = 0\n",
    "    #\n",
    "#     for i, lati, longi in enumerate(coordinates)\n",
    "    for i, city in enumerate(cities):\n",
    "        #     group cities by sets 50\n",
    "        if (i % 50 == 0 and i >= 50):\n",
    "            set_count += 1\n",
    "            record_count = 1\n",
    "\n",
    "        # deal with city with spaces in names\n",
    "#         search_criterion = \"q=\" + cities[i].replace(\" \", \"+\")\n",
    "        search_criterion = \"q=\" + \\\n",
    "            cities[i].replace(\" \", \"+\")+\"&APPID=\"+weather_api_key\n",
    "        # create endpoint url for each city\n",
    "#         city_url = \"http://api.openweathermap.org/data/2.5/weather?lat={lati}&lon={longi}&appid={weather_api_key}\"\n",
    "        city_url = \"http://api.openweathermap.org/data/2.5/weather?\" + search_criterion\n",
    "\n",
    "        # Log the URL, record, and set numbers and the city.\n",
    "        print(city_url)\n",
    "\n",
    "        print(f\"Processing Record {record_count} of Set {set_count} | {city}\")\n",
    "        # increment record count.\n",
    "        record_count += 1\n",
    "\n",
    "        # Run an API request for each of the cities.\n",
    "        try:\n",
    "            # Parse the JSON and retrieve data.\n",
    "            city_weather = requests.get(city_url).json()\n",
    "            # Parse out the needed data.\n",
    "            city_lat = city_weather[\"coord\"][\"lat\"]\n",
    "            city_lng = city_weather[\"coord\"][\"lon\"]\n",
    "            city_max_temp = city_weather[\"main\"][\"temp_max\"]\n",
    "            city_humidity = city_weather[\"main\"][\"humidity\"]\n",
    "            city_clouds = city_weather[\"clouds\"][\"all\"]\n",
    "            city_wind = city_weather[\"wind\"][\"speed\"]\n",
    "            city_country = city_weather[\"sys\"][\"country\"]\n",
    "            # Convert the date to ISO standard.\n",
    "            city_date = datetime.utcfromtimestamp(\n",
    "                city_weather[\"dt\"]).strftime('%Y-%m-%d %H:%M:%S')\n",
    "            # Append the city information into city_data list.\n",
    "#             print(city.title())\n",
    "            city_data.append({\n",
    "                \"City\": city.title(),\n",
    "                \"Lat\": city_lat,\n",
    "                \"Lng\": city_lng,\n",
    "                \"Max Temp\": city_max_temp,\n",
    "                \"Humidity\": city_humidity,\n",
    "                \"Cloudiness\": city_clouds,\n",
    "                \"Wind Speed\": city_wind,\n",
    "                \"Country\": city_country,\n",
    "                \"Date\": city_date\n",
    "            })\n",
    "\n",
    "    # If an error is experienced, skip the city.\n",
    "        except:\n",
    "            print(\"City not found. Skipping...\")\n",
    "            pass\n",
    "\n",
    "    # Indicate that Data Loading is complete.\n",
    "    print(\"-----------------------------\")\n",
    "    print(\"Data Retrieval Complete      \")\n",
    "    print(\"-----------------------------\")\n",
    "    return city_data"
   ]
  },
  {
   "cell_type": "code",
   "execution_count": null,
   "id": "color-mambo",
   "metadata": {},
   "outputs": [],
   "source": [
    "# test get_latitudes()\n",
    "result = get_latitudes(-75, 85 ,1500)\n",
    "print(result)"
   ]
  },
  {
   "source": [
    "### execute scatter plots"
   ],
   "cell_type": "markdown",
   "metadata": {}
  },
  {
   "cell_type": "code",
   "execution_count": 5,
   "id": "proud-baker",
   "metadata": {},
   "outputs": [],
   "source": [
    "# def create_scatter_plots(data_frame, )"
   ]
  },
  {
   "cell_type": "code",
   "execution_count": null,
   "metadata": {},
   "outputs": [],
   "source": []
  }
 ],
 "metadata": {
  "kernelspec": {
   "name": "python3",
   "display_name": "Python 3.9.1 64-bit",
   "metadata": {
    "interpreter": {
     "hash": "0ec66bbe782f389edb8615b95e71913b48001538f92dc4d53a6c71a0eff16772"
    }
   }
  },
  "language_info": {
   "codemirror_mode": {
    "name": "ipython",
    "version": 3
   },
   "file_extension": ".py",
   "mimetype": "text/x-python",
   "name": "python",
   "nbconvert_exporter": "python",
   "pygments_lexer": "ipython3",
   "version": "3.9.1-final"
  },
  "toc": {
   "base_numbering": 1,
   "nav_menu": {},
   "number_sections": true,
   "sideBar": true,
   "skip_h1_title": false,
   "title_cell": "Table of Contents",
   "title_sidebar": "Contents",
   "toc_cell": false,
   "toc_position": {},
   "toc_section_display": true,
   "toc_window_display": false
  },
  "varInspector": {
   "cols": {
    "lenName": 16,
    "lenType": 16,
    "lenVar": 40
   },
   "kernels_config": {
    "python": {
     "delete_cmd_postfix": "",
     "delete_cmd_prefix": "del ",
     "library": "var_list.py",
     "varRefreshCmd": "print(var_dic_list())"
    },
    "r": {
     "delete_cmd_postfix": ") ",
     "delete_cmd_prefix": "rm(",
     "library": "var_list.r",
     "varRefreshCmd": "cat(var_dic_list()) "
    }
   },
   "types_to_exclude": [
    "module",
    "function",
    "builtin_function_or_method",
    "instance",
    "_Feature"
   ],
   "window_display": false
  }
 },
 "nbformat": 4,
 "nbformat_minor": 5
}